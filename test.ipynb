{
  "nbformat": 4,
  "nbformat_minor": 0,
  "metadata": {
    "colab": {
      "provenance": []
    },
    "kernelspec": {
      "name": "python3",
      "display_name": "Python 3"
    },
    "language_info": {
      "name": "python"
    },
    "accelerator": "GPU",
    "gpuClass": "standard"
  },
  "cells": [
    {
      "cell_type": "code",
      "execution_count": 11,
      "metadata": {
        "colab": {
          "base_uri": "https://localhost:8080/"
        },
        "id": "FbA7OviJypV5",
        "outputId": "e0916a75-719f-4a7a-da15-d7a7522bd263"
      },
      "outputs": [
        {
          "output_type": "stream",
          "name": "stdout",
          "text": [
            "Reading word 15550000Unknown vocab size: 1295195\n",
            "Total words in training file: 15559127\n",
            "Total bytes in training file: 100000000\n",
            "Vocab size: 144150\n",
            "Initializing unigram table\n",
            "Filling unigram table\n",
            "Alpha: 0.000690 Progress: 15138719 of 15559127 (97.30%)Completed training. Training took 45.18907900651296 minutes\n",
            "Saving model to /content/drive/MyDrive/dsg_dataset/modelnew.model\n"
          ]
        }
      ],
      "source": [
        "!python word2vec.py -train '/content/drive/MyDrive/dsg_dataset/enwik8' -model '/content/drive/MyDrive/dsg_dataset/modelnew.model'"
      ]
    },
    {
      "cell_type": "code",
      "source": [
        "from gensim.models import KeyedVectors\n",
        "\n",
        "model = KeyedVectors.load_word2vec_format('/content/drive/MyDrive/dsg_dataset/model_numpy_word2vec.h5', binary=False)"
      ],
      "metadata": {
        "id": "L0Z9sYAhN_6J"
      },
      "execution_count": 3,
      "outputs": []
    },
    {
      "cell_type": "code",
      "source": [
        "word_embeddings = model['president']\n",
        "word_embeddings"
      ],
      "metadata": {
        "colab": {
          "base_uri": "https://localhost:8080/"
        },
        "id": "_sHOiZiyRShU",
        "outputId": "211d3db1-4114-4e32-e493-0b7e79168e56"
      },
      "execution_count": 5,
      "outputs": [
        {
          "output_type": "execute_result",
          "data": {
            "text/plain": [
              "array([ 0.28616118,  0.20298043,  0.08371796,  0.39150867, -0.11283545,\n",
              "        0.23054498,  0.48837754, -0.68364656, -0.26441246, -0.38029614,\n",
              "        0.6608217 ,  0.2770387 ,  0.26590338,  0.06078717,  0.5732862 ,\n",
              "        0.82626903, -0.6224383 , -0.54371685, -0.5066947 , -0.15698628,\n",
              "        0.18345225,  0.19199705,  0.15641561,  1.0452347 , -0.5305619 ,\n",
              "        0.6584263 , -0.16710521, -0.73286295,  0.21730785, -0.14559433,\n",
              "        0.23347506,  0.42334804,  0.61205566,  0.41746014,  0.594079  ,\n",
              "        0.7680878 , -0.36922768,  0.5315886 , -0.54501873, -0.89463246,\n",
              "       -1.1389229 ,  0.36201486,  0.4253054 , -0.38854018, -0.6470913 ,\n",
              "        0.34369585, -0.20084187, -0.410428  ,  0.10771129, -0.36145627,\n",
              "       -0.14935215,  0.15418865, -1.103856  , -0.22750461, -0.31790355,\n",
              "        0.8442195 , -0.08457074, -0.81515646, -0.8211596 , -0.3806027 ,\n",
              "        0.9071845 ,  0.7308646 ,  0.23563342, -0.02291393,  0.09292726,\n",
              "       -0.2234645 ,  0.22686704, -0.4413986 ,  0.29295737, -0.77630603,\n",
              "        1.0679209 ,  0.23618253, -1.0010084 , -0.63252866, -0.40078247,\n",
              "        0.00543481, -0.31538394, -0.13964905,  0.12588878,  0.4520867 ,\n",
              "        1.2800221 , -0.07375126, -0.61181337,  0.86879534, -0.25591016,\n",
              "        0.6860711 ,  1.0953054 , -0.3721065 , -0.64649117,  0.4800853 ,\n",
              "        0.11850875,  0.8003367 , -0.13280806, -0.4172059 ,  0.61912555,\n",
              "       -0.29626858, -0.10417985, -0.9932754 , -0.10370991, -0.3099767 ],\n",
              "      dtype=float32)"
            ]
          },
          "metadata": {},
          "execution_count": 5
        }
      ]
    },
    {
      "cell_type": "code",
      "source": [
        "similar_words = model.most_similar('president', topn=10)\n",
        "similar_words"
      ],
      "metadata": {
        "colab": {
          "base_uri": "https://localhost:8080/"
        },
        "id": "UUxBGQWkRzxm",
        "outputId": "b6535cdd-0349-404d-d499-4b1539d5e63e"
      },
      "execution_count": 6,
      "outputs": [
        {
          "output_type": "execute_result",
          "data": {
            "text/plain": [
              "[('leader', 0.8975813984870911),\n",
              " ('author', 0.8792545795440674),\n",
              " ('head', 0.8709428310394287),\n",
              " ('editor', 0.8683983087539673),\n",
              " ('governor', 0.8627264499664307),\n",
              " ('election', 0.8613943457603455),\n",
              " ('king', 0.8596340417861938),\n",
              " ('sole', 0.8441171646118164),\n",
              " ('Brewers]]', 0.8439934253692627),\n",
              " ('manager', 0.8439224362373352)]"
            ]
          },
          "metadata": {},
          "execution_count": 6
        }
      ]
    },
    {
      "cell_type": "code",
      "source": [
        "similarity = model.similarity('leader', 'president')\n",
        "similarity"
      ],
      "metadata": {
        "colab": {
          "base_uri": "https://localhost:8080/"
        },
        "id": "ZogGnSuJSusn",
        "outputId": "170fb78d-5e57-4a4e-a980-c2af108376df"
      },
      "execution_count": 7,
      "outputs": [
        {
          "output_type": "execute_result",
          "data": {
            "text/plain": [
              "0.89758134"
            ]
          },
          "metadata": {},
          "execution_count": 7
        }
      ]
    },
    {
      "cell_type": "code",
      "source": [],
      "metadata": {
        "id": "Rxqxc4ENTUr_"
      },
      "execution_count": null,
      "outputs": []
    }
  ]
}